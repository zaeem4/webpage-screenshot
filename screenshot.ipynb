{
  "nbformat": 4,
  "nbformat_minor": 0,
  "metadata": {
    "colab": {
      "provenance": []
    },
    "kernelspec": {
      "name": "python3",
      "display_name": "Python 3"
    },
    "language_info": {
      "name": "python"
    }
  },
  "cells": [
    {
      "cell_type": "code",
      "source": [
        "!apt-get update # to update ubuntu to correctly run apt install\n",
        "!pip install selenium\n",
        "!pip install Selenium-Screenshot\n",
        "!apt install chromium-chromedriver\n",
        "!cp /usr/lib/chromium-browser/chromedriver /usr/bin"
      ],
      "metadata": {
        "id": "GQ036srntrQn"
      },
      "execution_count": null,
      "outputs": []
    },
    {
      "cell_type": "code",
      "source": [],
      "metadata": {
        "id": "wTCQuAr_y09R"
      },
      "execution_count": null,
      "outputs": []
    },
    {
      "cell_type": "code",
      "source": [
        "from selenium import webdriver\n",
        "from time import sleep\n",
        "from PIL import Image\n",
        "\n",
        "chrome_options = webdriver.ChromeOptions()\n",
        "chrome_options.add_argument('--headless')\n",
        "chrome_options.add_argument('--no-sandbox')\n",
        "browser = webdriver.Chrome('chromedriver',options=chrome_options)\n",
        "browser.get(\"https://www.lambdatest.com/feature\")\n",
        "sleep(1)\n",
        "# featureElement = browser.find_element_by_xpath(\"//section[contains(string(),’START SCREENSHOT TESTING’)]\")\n",
        "# location = featureElement .location\n",
        "# size = featureElement .size\n",
        "browser.save_screenshot(\"fullPageScreenshot.png\")\n",
        "# x = location['x']\n",
        "# y = location['y']\n",
        "# w = x + size['width']\n",
        "# h = y + size['height']\n",
        "# fullImg = Image.open(\"fullPageScreenshot.png\")\n",
        "# cropImg = fullImg.crop(x, y, w, h)\n",
        "# cropImg.save(\"cropImage.png\")\n",
        "browser.quit()"
      ],
      "metadata": {
        "id": "yGo9Y1tLtt5_"
      },
      "execution_count": null,
      "outputs": []
    },
    {
      "cell_type": "code",
      "source": [],
      "metadata": {
        "id": "7Fz979qzvpnE"
      },
      "execution_count": null,
      "outputs": []
    },
    {
      "cell_type": "code",
      "execution_count": null,
      "metadata": {
        "id": "Cop4NY_Gs8db"
      },
      "outputs": [],
      "source": [
        "#coding=utf-8\n",
        "# import time\n",
        "# import sys\n",
        "# sys.path.insert(0,'/usr/lib/chromium-browser/chromedriver')\n",
        "from selenium import webdriver\n",
        "from Screenshot import Screenshot\n",
        "\n",
        "def test_fullpage_screenshot():\n",
        "    ss = Screenshot.Screenshot()\n",
        "    chrome_options = webdriver.ChromeOptions()\n",
        "    chrome_options.add_argument('--headless')\n",
        "    chrome_options.add_argument('--no-sandbox')\n",
        "    chrome_options.add_argument('--ignore-certificate-errors')\n",
        "    chrome_options.add_argument('--disable-dev-shm-usage')\n",
        "    driver = webdriver.Chrome('chromedriver',options=chrome_options)\n",
        "    driver.get(\"https://tminspector.com\")\n",
        "    image = ss.full_Screenshot(driver, save_path=r'.' , image_name='name.png')\n",
        "    driver.quit()\n",
        "\n",
        "if __name__ == \"__main__\":\n",
        "    test_fullpage_screenshot()"
      ]
    },
    {
      "cell_type": "code",
      "source": [],
      "metadata": {
        "id": "-0zKCIGHy3h7"
      },
      "execution_count": null,
      "outputs": []
    },
    {
      "cell_type": "code",
      "source": [
        "from selenium import webdriver\n",
        "\n",
        "chrome_options = webdriver.ChromeOptions()\n",
        "chrome_options.add_argument('--headless')\n",
        "chrome_options.add_argument('--no-sandbox')\n",
        "DRIVER = 'chromedriver'\n",
        "driver = webdriver.Chrome(DRIVER, options=chrome_options)\n",
        "driver.get('https://www.spotify.com')\n",
        "screenshot = driver.save_screenshot('my_screenshot.png')\n",
        "driver.quit()"
      ],
      "metadata": {
        "id": "j6CfS-ACvLYE"
      },
      "execution_count": null,
      "outputs": []
    },
    {
      "cell_type": "code",
      "source": [],
      "metadata": {
        "id": "BEHZSBjvztM-"
      },
      "execution_count": null,
      "outputs": []
    },
    {
      "cell_type": "code",
      "source": [
        "import urllib.request as urllib2\n",
        "import json\n",
        "import base64\n",
        "import sys\n",
        "import requests\n",
        "import os\n",
        "import errno\n",
        "\n",
        "#   The website's URL as an Input\n",
        "site = \"https://tminspector.com\"\n",
        "imagePath = r\".\"\n",
        "\n",
        "#   The Google API.  Remove \"&strategy=mobile\" for a desktop screenshot\n",
        "api = \"https://www.googleapis.com/pagespeedonline/v5/runPagespeed?url=\"+urllib2.quote(site)+\"&screenshot=true\"\n",
        "\n",
        "#   Get the results from Google\n",
        "try:\n",
        "  print(api)\n",
        "  site_data = json.load(urllib2.urlopen(api))\n",
        "except urllib2.URLError:\n",
        "  print(\"Unable to retreive data\")\n",
        "  sys.exit()\n",
        "\n",
        "try:\n",
        "  screenshot_encoded =  site_data['screenshot']['data']\n",
        "except ValueError:\n",
        "  print(\"Invalid JSON encountered.\")\n",
        "  sys.exit()\n",
        "\n",
        "#   Google has a weird way of encoding the Base64 data\n",
        "screenshot_encoded = screenshot_encoded.replace(\"_\", \"/\")\n",
        "screenshot_encoded = screenshot_encoded.replace(\"-\", \"+\")\n",
        "\n",
        "#   Decode the Base64 data\n",
        "screenshot_decoded = base64.b64decode(screenshot_encoded)\n",
        "\n",
        "if not os.path.exists(os.path.dirname(impagepath)):\n",
        "  try:\n",
        "    os.makedirs(os.path.dirname(impagepath))\n",
        "  except OSError as exc:\n",
        "\n",
        "    if exc.errno  != errno.EEXIST:\n",
        "      raise\n",
        "\n",
        "#   Save the file\n",
        "with open(imagePath, 'w') as file_:\n",
        "  file_.write(screenshot_decoded)"
      ],
      "metadata": {
        "id": "fVnLvSxAztb1"
      },
      "execution_count": null,
      "outputs": []
    }
  ]
}